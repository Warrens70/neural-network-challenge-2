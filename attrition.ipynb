{
 "cells": [
  {
   "cell_type": "markdown",
   "metadata": {
    "id": "alIIEHibGc3M"
   },
   "source": [
    "## Part 1: Preprocessing"
   ]
  },
  {
   "cell_type": "code",
   "execution_count": 1,
   "metadata": {
    "colab": {
     "base_uri": "https://localhost:8080/",
     "height": 325
    },
    "id": "6eDUJ4NtGc3P",
    "outputId": "ecb71f5e-479c-4640-e30a-683ff91f1dc0"
   },
   "outputs": [
    {
     "data": {
      "text/html": [
       "<div>\n",
       "<style scoped>\n",
       "    .dataframe tbody tr th:only-of-type {\n",
       "        vertical-align: middle;\n",
       "    }\n",
       "\n",
       "    .dataframe tbody tr th {\n",
       "        vertical-align: top;\n",
       "    }\n",
       "\n",
       "    .dataframe thead th {\n",
       "        text-align: right;\n",
       "    }\n",
       "</style>\n",
       "<table border=\"1\" class=\"dataframe\">\n",
       "  <thead>\n",
       "    <tr style=\"text-align: right;\">\n",
       "      <th></th>\n",
       "      <th>Age</th>\n",
       "      <th>Attrition</th>\n",
       "      <th>BusinessTravel</th>\n",
       "      <th>Department</th>\n",
       "      <th>DistanceFromHome</th>\n",
       "      <th>Education</th>\n",
       "      <th>EducationField</th>\n",
       "      <th>EnvironmentSatisfaction</th>\n",
       "      <th>HourlyRate</th>\n",
       "      <th>JobInvolvement</th>\n",
       "      <th>...</th>\n",
       "      <th>PerformanceRating</th>\n",
       "      <th>RelationshipSatisfaction</th>\n",
       "      <th>StockOptionLevel</th>\n",
       "      <th>TotalWorkingYears</th>\n",
       "      <th>TrainingTimesLastYear</th>\n",
       "      <th>WorkLifeBalance</th>\n",
       "      <th>YearsAtCompany</th>\n",
       "      <th>YearsInCurrentRole</th>\n",
       "      <th>YearsSinceLastPromotion</th>\n",
       "      <th>YearsWithCurrManager</th>\n",
       "    </tr>\n",
       "  </thead>\n",
       "  <tbody>\n",
       "    <tr>\n",
       "      <th>0</th>\n",
       "      <td>41</td>\n",
       "      <td>Yes</td>\n",
       "      <td>Travel_Rarely</td>\n",
       "      <td>Sales</td>\n",
       "      <td>1</td>\n",
       "      <td>2</td>\n",
       "      <td>Life Sciences</td>\n",
       "      <td>2</td>\n",
       "      <td>94</td>\n",
       "      <td>3</td>\n",
       "      <td>...</td>\n",
       "      <td>3</td>\n",
       "      <td>1</td>\n",
       "      <td>0</td>\n",
       "      <td>8</td>\n",
       "      <td>0</td>\n",
       "      <td>1</td>\n",
       "      <td>6</td>\n",
       "      <td>4</td>\n",
       "      <td>0</td>\n",
       "      <td>5</td>\n",
       "    </tr>\n",
       "    <tr>\n",
       "      <th>1</th>\n",
       "      <td>49</td>\n",
       "      <td>No</td>\n",
       "      <td>Travel_Frequently</td>\n",
       "      <td>Research &amp; Development</td>\n",
       "      <td>8</td>\n",
       "      <td>1</td>\n",
       "      <td>Life Sciences</td>\n",
       "      <td>3</td>\n",
       "      <td>61</td>\n",
       "      <td>2</td>\n",
       "      <td>...</td>\n",
       "      <td>4</td>\n",
       "      <td>4</td>\n",
       "      <td>1</td>\n",
       "      <td>10</td>\n",
       "      <td>3</td>\n",
       "      <td>3</td>\n",
       "      <td>10</td>\n",
       "      <td>7</td>\n",
       "      <td>1</td>\n",
       "      <td>7</td>\n",
       "    </tr>\n",
       "    <tr>\n",
       "      <th>2</th>\n",
       "      <td>37</td>\n",
       "      <td>Yes</td>\n",
       "      <td>Travel_Rarely</td>\n",
       "      <td>Research &amp; Development</td>\n",
       "      <td>2</td>\n",
       "      <td>2</td>\n",
       "      <td>Other</td>\n",
       "      <td>4</td>\n",
       "      <td>92</td>\n",
       "      <td>2</td>\n",
       "      <td>...</td>\n",
       "      <td>3</td>\n",
       "      <td>2</td>\n",
       "      <td>0</td>\n",
       "      <td>7</td>\n",
       "      <td>3</td>\n",
       "      <td>3</td>\n",
       "      <td>0</td>\n",
       "      <td>0</td>\n",
       "      <td>0</td>\n",
       "      <td>0</td>\n",
       "    </tr>\n",
       "    <tr>\n",
       "      <th>3</th>\n",
       "      <td>33</td>\n",
       "      <td>No</td>\n",
       "      <td>Travel_Frequently</td>\n",
       "      <td>Research &amp; Development</td>\n",
       "      <td>3</td>\n",
       "      <td>4</td>\n",
       "      <td>Life Sciences</td>\n",
       "      <td>4</td>\n",
       "      <td>56</td>\n",
       "      <td>3</td>\n",
       "      <td>...</td>\n",
       "      <td>3</td>\n",
       "      <td>3</td>\n",
       "      <td>0</td>\n",
       "      <td>8</td>\n",
       "      <td>3</td>\n",
       "      <td>3</td>\n",
       "      <td>8</td>\n",
       "      <td>7</td>\n",
       "      <td>3</td>\n",
       "      <td>0</td>\n",
       "    </tr>\n",
       "    <tr>\n",
       "      <th>4</th>\n",
       "      <td>27</td>\n",
       "      <td>No</td>\n",
       "      <td>Travel_Rarely</td>\n",
       "      <td>Research &amp; Development</td>\n",
       "      <td>2</td>\n",
       "      <td>1</td>\n",
       "      <td>Medical</td>\n",
       "      <td>1</td>\n",
       "      <td>40</td>\n",
       "      <td>3</td>\n",
       "      <td>...</td>\n",
       "      <td>3</td>\n",
       "      <td>4</td>\n",
       "      <td>1</td>\n",
       "      <td>6</td>\n",
       "      <td>3</td>\n",
       "      <td>3</td>\n",
       "      <td>2</td>\n",
       "      <td>2</td>\n",
       "      <td>2</td>\n",
       "      <td>2</td>\n",
       "    </tr>\n",
       "  </tbody>\n",
       "</table>\n",
       "<p>5 rows × 27 columns</p>\n",
       "</div>"
      ],
      "text/plain": [
       "   Age Attrition     BusinessTravel              Department  DistanceFromHome  \\\n",
       "0   41       Yes      Travel_Rarely                   Sales                 1   \n",
       "1   49        No  Travel_Frequently  Research & Development                 8   \n",
       "2   37       Yes      Travel_Rarely  Research & Development                 2   \n",
       "3   33        No  Travel_Frequently  Research & Development                 3   \n",
       "4   27        No      Travel_Rarely  Research & Development                 2   \n",
       "\n",
       "   Education EducationField  EnvironmentSatisfaction  HourlyRate  \\\n",
       "0          2  Life Sciences                        2          94   \n",
       "1          1  Life Sciences                        3          61   \n",
       "2          2          Other                        4          92   \n",
       "3          4  Life Sciences                        4          56   \n",
       "4          1        Medical                        1          40   \n",
       "\n",
       "   JobInvolvement  ...  PerformanceRating RelationshipSatisfaction  \\\n",
       "0               3  ...                  3                        1   \n",
       "1               2  ...                  4                        4   \n",
       "2               2  ...                  3                        2   \n",
       "3               3  ...                  3                        3   \n",
       "4               3  ...                  3                        4   \n",
       "\n",
       "   StockOptionLevel TotalWorkingYears  TrainingTimesLastYear WorkLifeBalance  \\\n",
       "0                 0                 8                      0               1   \n",
       "1                 1                10                      3               3   \n",
       "2                 0                 7                      3               3   \n",
       "3                 0                 8                      3               3   \n",
       "4                 1                 6                      3               3   \n",
       "\n",
       "   YearsAtCompany  YearsInCurrentRole  YearsSinceLastPromotion  \\\n",
       "0               6                   4                        0   \n",
       "1              10                   7                        1   \n",
       "2               0                   0                        0   \n",
       "3               8                   7                        3   \n",
       "4               2                   2                        2   \n",
       "\n",
       "   YearsWithCurrManager  \n",
       "0                     5  \n",
       "1                     7  \n",
       "2                     0  \n",
       "3                     0  \n",
       "4                     2  \n",
       "\n",
       "[5 rows x 27 columns]"
      ]
     },
     "execution_count": 1,
     "metadata": {},
     "output_type": "execute_result"
    }
   ],
   "source": [
    "# Import our dependencies\n",
    "from sklearn.model_selection import train_test_split\n",
    "from sklearn.preprocessing import StandardScaler\n",
    "import pandas as pd\n",
    "import numpy as np\n",
    "from tensorflow.keras.models import Model\n",
    "from tensorflow.keras import layers\n",
    "\n",
    "#  Import and read the attrition data\n",
    "attrition_df = pd.read_csv('https://static.bc-edx.com/ai/ail-v-1-0/m19/lms/datasets/attrition.csv')\n",
    "attrition_df.head()"
   ]
  },
  {
   "cell_type": "code",
   "execution_count": 2,
   "metadata": {
    "colab": {
     "base_uri": "https://localhost:8080/",
     "height": 930
    },
    "id": "g22aQSY4Gc3Q",
    "outputId": "a4f43efa-44d4-43aa-9f7b-3d0143c2976e"
   },
   "outputs": [
    {
     "data": {
      "text/plain": [
       "Age                         43\n",
       "Attrition                    2\n",
       "BusinessTravel               3\n",
       "Department                   3\n",
       "DistanceFromHome            29\n",
       "Education                    5\n",
       "EducationField               6\n",
       "EnvironmentSatisfaction      4\n",
       "HourlyRate                  71\n",
       "JobInvolvement               4\n",
       "JobLevel                     5\n",
       "JobRole                      9\n",
       "JobSatisfaction              4\n",
       "MaritalStatus                3\n",
       "NumCompaniesWorked          10\n",
       "OverTime                     2\n",
       "PercentSalaryHike           15\n",
       "PerformanceRating            2\n",
       "RelationshipSatisfaction     4\n",
       "StockOptionLevel             4\n",
       "TotalWorkingYears           40\n",
       "TrainingTimesLastYear        7\n",
       "WorkLifeBalance              4\n",
       "YearsAtCompany              37\n",
       "YearsInCurrentRole          19\n",
       "YearsSinceLastPromotion     16\n",
       "YearsWithCurrManager        18\n",
       "dtype: int64"
      ]
     },
     "execution_count": 2,
     "metadata": {},
     "output_type": "execute_result"
    }
   ],
   "source": [
    "# Determine the number of unique values in each column.\n",
    "attrition_df.nunique()"
   ]
  },
  {
   "cell_type": "code",
   "execution_count": 3,
   "metadata": {
    "id": "50vMgBEnJbfM"
   },
   "outputs": [],
   "source": [
    "# Create y_df with the Attrition and Department columns\n",
    "\n",
    "y_df = attrition_df[['Attrition', 'Department']]"
   ]
  },
  {
   "cell_type": "code",
   "execution_count": 4,
   "metadata": {
    "colab": {
     "base_uri": "https://localhost:8080/",
     "height": 460
    },
    "id": "Virka0zLGc3R",
    "outputId": "4e3e44e6-c960-4ac4-ad81-7eee107f4456"
   },
   "outputs": [
    {
     "data": {
      "text/plain": [
       "Age                         int64\n",
       "BusinessTravel             object\n",
       "Department                 object\n",
       "DistanceFromHome            int64\n",
       "Education                   int64\n",
       "EducationField             object\n",
       "EnvironmentSatisfaction     int64\n",
       "HourlyRate                  int64\n",
       "JobInvolvement              int64\n",
       "JobLevel                    int64\n",
       "JobSatisfaction             int64\n",
       "MaritalStatus              object\n",
       "dtype: object"
      ]
     },
     "execution_count": 4,
     "metadata": {},
     "output_type": "execute_result"
    }
   ],
   "source": [
    "# Create a list of at least 10 column names to use as X data\n",
    "X_columns = ['Age', 'BusinessTravel', 'Department', 'DistanceFromHome',\n",
    "             'Education', 'EducationField', 'EnvironmentSatisfaction',\n",
    "             'HourlyRate', 'JobInvolvement', 'JobLevel', 'JobSatisfaction',\n",
    "             'MaritalStatus',]\n",
    "\n",
    "\n",
    "\n",
    "# Create X_df using your selected columns\n",
    "X_df = attrition_df['Age']\n",
    "X_df = attrition_df['BusinessTravel']\n",
    "X_df = attrition_df['Department']\n",
    "X_df = attrition_df['DistanceFromHome']\n",
    "X_df = attrition_df['Education']\n",
    "X_df = attrition_df['EducationField']\n",
    "X_df = attrition_df['EnvironmentSatisfaction']\n",
    "X_df = attrition_df['HourlyRate']\n",
    "X_df = attrition_df['JobInvolvement']\n",
    "X_df = attrition_df['JobLevel']\n",
    "X_df = attrition_df['JobSatisfaction']\n",
    "X_df = attrition_df['MaritalStatus']\n",
    "\n",
    "\n",
    "\n",
    "\n",
    "\n",
    "\n",
    "\n",
    "# Show the data types for X_df\n",
    "X_df.dtypes\n",
    "\n",
    "\n",
    "\n",
    "# Create X_df using your selected columns\n",
    "X_df = attrition_df[X_columns]\n",
    "\n",
    "\n",
    "\n",
    "\n",
    "# Show the data types for X_df\n",
    "X_df.dtypes\n",
    "\n",
    "\n"
   ]
  },
  {
   "cell_type": "code",
   "execution_count": 5,
   "metadata": {
    "id": "KaJfdOGUMHMR"
   },
   "outputs": [],
   "source": [
    "# Split the data into training and testing sets\n",
    "from sklearn.model_selection import train_test_split\n",
    "\n"
   ]
  },
  {
   "cell_type": "code",
   "execution_count": 6,
   "metadata": {
    "colab": {
     "base_uri": "https://localhost:8080/",
     "height": 930
    },
    "id": "NYubUJqiLCSp",
    "outputId": "4e6b1c04-af60-4797-dd21-44d963dd3379"
   },
   "outputs": [
    {
     "data": {
      "text/plain": [
       "Age                          int64\n",
       "Attrition                   object\n",
       "BusinessTravel              object\n",
       "Department                  object\n",
       "DistanceFromHome             int64\n",
       "Education                    int64\n",
       "EducationField              object\n",
       "EnvironmentSatisfaction      int64\n",
       "HourlyRate                   int64\n",
       "JobInvolvement               int64\n",
       "JobLevel                     int64\n",
       "JobRole                     object\n",
       "JobSatisfaction              int64\n",
       "MaritalStatus               object\n",
       "NumCompaniesWorked           int64\n",
       "OverTime                    object\n",
       "PercentSalaryHike            int64\n",
       "PerformanceRating            int64\n",
       "RelationshipSatisfaction     int64\n",
       "StockOptionLevel             int64\n",
       "TotalWorkingYears            int64\n",
       "TrainingTimesLastYear        int64\n",
       "WorkLifeBalance              int64\n",
       "YearsAtCompany               int64\n",
       "YearsInCurrentRole           int64\n",
       "YearsSinceLastPromotion      int64\n",
       "YearsWithCurrManager         int64\n",
       "dtype: object"
      ]
     },
     "execution_count": 6,
     "metadata": {},
     "output_type": "execute_result"
    }
   ],
   "source": [
    "# Convert your X data to numeric data types however you see fit\n",
    "X_df = pd.get_dummies(X_df)\n",
    "# Add new code cells as necessary\n",
    "attrition_df.dtypes\n",
    "\n"
   ]
  },
  {
   "cell_type": "code",
   "execution_count": 7,
   "metadata": {
    "id": "EWA-aIA5Gc3T"
   },
   "outputs": [],
   "source": [
    "# Create a StandardScaler\n",
    "scaler = StandardScaler()\n",
    "\n",
    "\n",
    "# Fit the StandardScaler to the training data\n",
    "X_scaler = scaler.fit(X_df)\n",
    "\n",
    "\n",
    "# Scale the training and testing data\n",
    "X_scaled = X_scaler.transform(X_df)\n",
    "\n"
   ]
  },
  {
   "cell_type": "code",
   "execution_count": 8,
   "metadata": {
    "id": "-z0Mky8vQSz4"
   },
   "outputs": [],
   "source": [
    "# Create a OneHotEncoder for the Department column\n",
    "\n",
    "from sklearn.preprocessing import OneHotEncoder\n",
    "\n",
    "\n",
    "# Fit the encoder to the training data\n",
    "# Use sparse_output instead of sparse\n",
    "enc = OneHotEncoder(sparse_output=False)\n",
    "enc.fit(y_df[['Department']])\n",
    "\n",
    "\n",
    "# Create two new variables by applying the encoder\n",
    "# to the training and testing data\n",
    "encoded_data = enc.transform(y_df[['Department']])\n",
    "\n",
    "\n",
    "\n"
   ]
  },
  {
   "cell_type": "code",
   "execution_count": 9,
   "metadata": {
    "id": "-G4DSpvFRrk4"
   },
   "outputs": [],
   "source": [
    "# Create a OneHotEncoder for the Attrition column\n",
    "from sklearn.preprocessing import OneHotEncoder\n",
    "\n",
    "\n",
    "# Fit the encoder to the training data\n",
    "enc = OneHotEncoder(sparse_output=False)\n",
    "enc.fit(y_df[['Attrition']])\n",
    "\n",
    "\n",
    "# Create two new variables by applying the encoder\n",
    "# to the training and testing data\n",
    "encoded_data = enc.transform(y_df[['Attrition']])\n",
    "\n",
    "\n"
   ]
  },
  {
   "cell_type": "markdown",
   "metadata": {
    "id": "ykNmu_WWGc3T"
   },
   "source": [
    "## Create, Compile, and Train the Model"
   ]
  },
  {
   "cell_type": "code",
   "execution_count": 10,
   "metadata": {
    "id": "WUptZqmSGc3T"
   },
   "outputs": [],
   "source": [
    "# Find the number of columns in the X training data\n",
    "number_input_features = len(X_df.columns)\n",
    "number_input_features\n",
    "\n",
    "\n",
    "# Create the input layer\n",
    "input = layers.Input(shape=(number_input_features,))\n",
    "\n",
    "\n",
    "# Create the hidden layers\n",
    "hidden1 = layers.Dense(units=128, activation='relu')(input)\n",
    "hidden2 = layers.Dense(units=64, activation='relu')(hidden1)\n",
    "hidden3 = layers.Dense(units=32, activation='relu')(hidden2)\n",
    "\n",
    "\n",
    "# Create at least two shared layers\n",
    "shared_layer1 = layers.Dense(units=64, activation='relu')(hidden3) # Changed '64' to 64\n",
    "shared_layer2 = layers.Dense(units=32, activation='relu')(shared_layer1) # Changed '32' to 32\n",
    "\n",
    "\n",
    "# Create the output layer\n",
    "output = layers.Dense(units=2, activation='softmax')(shared_layer2)\n"
   ]
  },
  {
   "cell_type": "code",
   "execution_count": 11,
   "metadata": {
    "id": "JukjTm2yTEqd"
   },
   "outputs": [],
   "source": [
    "# Create a branch for Department\n",
    "# with a hidden layer and an output layer\n",
    "department_input = layers.Input(shape=(number_input_features,))\n",
    "department_hidden = layers.Dense(units=64, activation='relu')(department_input)\n",
    "department_output = layers.Dense(units=2, activation='softmax')(department_hidden)\n",
    "\n",
    "\n",
    "# Create the hidden layer\n",
    "hidden1 = layers.Dense(units=128, activation='relu')(input)\n",
    "\n",
    "\n",
    "# Create the output layer\n",
    "output = layers.Dense(units=2, activation='softmax')(hidden1)\n",
    "\n"
   ]
  },
  {
   "cell_type": "code",
   "execution_count": 12,
   "metadata": {
    "id": "9OqhUiOJUBkR"
   },
   "outputs": [],
   "source": [
    "# Create a branch for Attrition\n",
    "# with a hidden layer and an output layer\n",
    "attrition_input = layers.Input(shape=(number_input_features,))\n",
    "attrition_hidden = layers.Dense(units=64, activation='relu')(attrition_input)\n",
    "attrition_output = layers.Dense(units=2, activation='softmax')(attrition_hidden)\n",
    "\n",
    "\n",
    "# Create the hidden layer\n",
    "hidden1 = layers.Dense(units=128, activation='relu')(input)\n",
    "\n",
    "\n",
    "# Create the output layer\n",
    "output = layers.Dense(units=2, activation='softmax')(hidden1)\n",
    "\n"
   ]
  },
  {
   "cell_type": "code",
   "execution_count": 13,
   "metadata": {
    "colab": {
     "base_uri": "https://localhost:8080/",
     "height": 465
    },
    "id": "twmuejdxGc3T",
    "outputId": "a9e63918-d437-42ab-b6d3-dd31b320a5fd"
   },
   "outputs": [
    {
     "data": {
      "text/html": [
       "<pre style=\"white-space:pre;overflow-x:auto;line-height:normal;font-family:Menlo,'DejaVu Sans Mono',consolas,'Courier New',monospace\"><span style=\"font-weight: bold\">Model: \"functional\"</span>\n",
       "</pre>\n"
      ],
      "text/plain": [
       "\u001b[1mModel: \"functional\"\u001b[0m\n"
      ]
     },
     "metadata": {},
     "output_type": "display_data"
    },
    {
     "data": {
      "text/html": [
       "<pre style=\"white-space:pre;overflow-x:auto;line-height:normal;font-family:Menlo,'DejaVu Sans Mono',consolas,'Courier New',monospace\">┏━━━━━━━━━━━━━━━━━━━━━┳━━━━━━━━━━━━━━━━━━━┳━━━━━━━━━━━━┳━━━━━━━━━━━━━━━━━━━┓\n",
       "┃<span style=\"font-weight: bold\"> Layer (type)        </span>┃<span style=\"font-weight: bold\"> Output Shape      </span>┃<span style=\"font-weight: bold\">    Param # </span>┃<span style=\"font-weight: bold\"> Connected to      </span>┃\n",
       "┡━━━━━━━━━━━━━━━━━━━━━╇━━━━━━━━━━━━━━━━━━━╇━━━━━━━━━━━━╇━━━━━━━━━━━━━━━━━━━┩\n",
       "│ input_layer         │ (<span style=\"color: #00d7ff; text-decoration-color: #00d7ff\">None</span>, <span style=\"color: #00af00; text-decoration-color: #00af00\">23</span>)        │          <span style=\"color: #00af00; text-decoration-color: #00af00\">0</span> │ -                 │\n",
       "│ (<span style=\"color: #0087ff; text-decoration-color: #0087ff\">InputLayer</span>)        │                   │            │                   │\n",
       "├─────────────────────┼───────────────────┼────────────┼───────────────────┤\n",
       "│ input_layer_1       │ (<span style=\"color: #00d7ff; text-decoration-color: #00d7ff\">None</span>, <span style=\"color: #00af00; text-decoration-color: #00af00\">23</span>)        │          <span style=\"color: #00af00; text-decoration-color: #00af00\">0</span> │ -                 │\n",
       "│ (<span style=\"color: #0087ff; text-decoration-color: #0087ff\">InputLayer</span>)        │                   │            │                   │\n",
       "├─────────────────────┼───────────────────┼────────────┼───────────────────┤\n",
       "│ input_layer_2       │ (<span style=\"color: #00d7ff; text-decoration-color: #00d7ff\">None</span>, <span style=\"color: #00af00; text-decoration-color: #00af00\">23</span>)        │          <span style=\"color: #00af00; text-decoration-color: #00af00\">0</span> │ -                 │\n",
       "│ (<span style=\"color: #0087ff; text-decoration-color: #0087ff\">InputLayer</span>)        │                   │            │                   │\n",
       "├─────────────────────┼───────────────────┼────────────┼───────────────────┤\n",
       "│ dense_12 (<span style=\"color: #0087ff; text-decoration-color: #0087ff\">Dense</span>)    │ (<span style=\"color: #00d7ff; text-decoration-color: #00d7ff\">None</span>, <span style=\"color: #00af00; text-decoration-color: #00af00\">128</span>)       │      <span style=\"color: #00af00; text-decoration-color: #00af00\">3,072</span> │ input_layer[<span style=\"color: #00af00; text-decoration-color: #00af00\">0</span>][<span style=\"color: #00af00; text-decoration-color: #00af00\">0</span>] │\n",
       "├─────────────────────┼───────────────────┼────────────┼───────────────────┤\n",
       "│ dense_6 (<span style=\"color: #0087ff; text-decoration-color: #0087ff\">Dense</span>)     │ (<span style=\"color: #00d7ff; text-decoration-color: #00d7ff\">None</span>, <span style=\"color: #00af00; text-decoration-color: #00af00\">64</span>)        │      <span style=\"color: #00af00; text-decoration-color: #00af00\">1,536</span> │ input_layer_1[<span style=\"color: #00af00; text-decoration-color: #00af00\">0</span>]… │\n",
       "├─────────────────────┼───────────────────┼────────────┼───────────────────┤\n",
       "│ dense_10 (<span style=\"color: #0087ff; text-decoration-color: #0087ff\">Dense</span>)    │ (<span style=\"color: #00d7ff; text-decoration-color: #00d7ff\">None</span>, <span style=\"color: #00af00; text-decoration-color: #00af00\">64</span>)        │      <span style=\"color: #00af00; text-decoration-color: #00af00\">1,536</span> │ input_layer_2[<span style=\"color: #00af00; text-decoration-color: #00af00\">0</span>]… │\n",
       "├─────────────────────┼───────────────────┼────────────┼───────────────────┤\n",
       "│ dense_13 (<span style=\"color: #0087ff; text-decoration-color: #0087ff\">Dense</span>)    │ (<span style=\"color: #00d7ff; text-decoration-color: #00d7ff\">None</span>, <span style=\"color: #00af00; text-decoration-color: #00af00\">2</span>)         │        <span style=\"color: #00af00; text-decoration-color: #00af00\">258</span> │ dense_12[<span style=\"color: #00af00; text-decoration-color: #00af00\">0</span>][<span style=\"color: #00af00; text-decoration-color: #00af00\">0</span>]    │\n",
       "├─────────────────────┼───────────────────┼────────────┼───────────────────┤\n",
       "│ dense_7 (<span style=\"color: #0087ff; text-decoration-color: #0087ff\">Dense</span>)     │ (<span style=\"color: #00d7ff; text-decoration-color: #00d7ff\">None</span>, <span style=\"color: #00af00; text-decoration-color: #00af00\">2</span>)         │        <span style=\"color: #00af00; text-decoration-color: #00af00\">130</span> │ dense_6[<span style=\"color: #00af00; text-decoration-color: #00af00\">0</span>][<span style=\"color: #00af00; text-decoration-color: #00af00\">0</span>]     │\n",
       "├─────────────────────┼───────────────────┼────────────┼───────────────────┤\n",
       "│ dense_11 (<span style=\"color: #0087ff; text-decoration-color: #0087ff\">Dense</span>)    │ (<span style=\"color: #00d7ff; text-decoration-color: #00d7ff\">None</span>, <span style=\"color: #00af00; text-decoration-color: #00af00\">2</span>)         │        <span style=\"color: #00af00; text-decoration-color: #00af00\">130</span> │ dense_10[<span style=\"color: #00af00; text-decoration-color: #00af00\">0</span>][<span style=\"color: #00af00; text-decoration-color: #00af00\">0</span>]    │\n",
       "└─────────────────────┴───────────────────┴────────────┴───────────────────┘\n",
       "</pre>\n"
      ],
      "text/plain": [
       "┏━━━━━━━━━━━━━━━━━━━━━┳━━━━━━━━━━━━━━━━━━━┳━━━━━━━━━━━━┳━━━━━━━━━━━━━━━━━━━┓\n",
       "┃\u001b[1m \u001b[0m\u001b[1mLayer (type)       \u001b[0m\u001b[1m \u001b[0m┃\u001b[1m \u001b[0m\u001b[1mOutput Shape     \u001b[0m\u001b[1m \u001b[0m┃\u001b[1m \u001b[0m\u001b[1m   Param #\u001b[0m\u001b[1m \u001b[0m┃\u001b[1m \u001b[0m\u001b[1mConnected to     \u001b[0m\u001b[1m \u001b[0m┃\n",
       "┡━━━━━━━━━━━━━━━━━━━━━╇━━━━━━━━━━━━━━━━━━━╇━━━━━━━━━━━━╇━━━━━━━━━━━━━━━━━━━┩\n",
       "│ input_layer         │ (\u001b[38;5;45mNone\u001b[0m, \u001b[38;5;34m23\u001b[0m)        │          \u001b[38;5;34m0\u001b[0m │ -                 │\n",
       "│ (\u001b[38;5;33mInputLayer\u001b[0m)        │                   │            │                   │\n",
       "├─────────────────────┼───────────────────┼────────────┼───────────────────┤\n",
       "│ input_layer_1       │ (\u001b[38;5;45mNone\u001b[0m, \u001b[38;5;34m23\u001b[0m)        │          \u001b[38;5;34m0\u001b[0m │ -                 │\n",
       "│ (\u001b[38;5;33mInputLayer\u001b[0m)        │                   │            │                   │\n",
       "├─────────────────────┼───────────────────┼────────────┼───────────────────┤\n",
       "│ input_layer_2       │ (\u001b[38;5;45mNone\u001b[0m, \u001b[38;5;34m23\u001b[0m)        │          \u001b[38;5;34m0\u001b[0m │ -                 │\n",
       "│ (\u001b[38;5;33mInputLayer\u001b[0m)        │                   │            │                   │\n",
       "├─────────────────────┼───────────────────┼────────────┼───────────────────┤\n",
       "│ dense_12 (\u001b[38;5;33mDense\u001b[0m)    │ (\u001b[38;5;45mNone\u001b[0m, \u001b[38;5;34m128\u001b[0m)       │      \u001b[38;5;34m3,072\u001b[0m │ input_layer[\u001b[38;5;34m0\u001b[0m][\u001b[38;5;34m0\u001b[0m] │\n",
       "├─────────────────────┼───────────────────┼────────────┼───────────────────┤\n",
       "│ dense_6 (\u001b[38;5;33mDense\u001b[0m)     │ (\u001b[38;5;45mNone\u001b[0m, \u001b[38;5;34m64\u001b[0m)        │      \u001b[38;5;34m1,536\u001b[0m │ input_layer_1[\u001b[38;5;34m0\u001b[0m]… │\n",
       "├─────────────────────┼───────────────────┼────────────┼───────────────────┤\n",
       "│ dense_10 (\u001b[38;5;33mDense\u001b[0m)    │ (\u001b[38;5;45mNone\u001b[0m, \u001b[38;5;34m64\u001b[0m)        │      \u001b[38;5;34m1,536\u001b[0m │ input_layer_2[\u001b[38;5;34m0\u001b[0m]… │\n",
       "├─────────────────────┼───────────────────┼────────────┼───────────────────┤\n",
       "│ dense_13 (\u001b[38;5;33mDense\u001b[0m)    │ (\u001b[38;5;45mNone\u001b[0m, \u001b[38;5;34m2\u001b[0m)         │        \u001b[38;5;34m258\u001b[0m │ dense_12[\u001b[38;5;34m0\u001b[0m][\u001b[38;5;34m0\u001b[0m]    │\n",
       "├─────────────────────┼───────────────────┼────────────┼───────────────────┤\n",
       "│ dense_7 (\u001b[38;5;33mDense\u001b[0m)     │ (\u001b[38;5;45mNone\u001b[0m, \u001b[38;5;34m2\u001b[0m)         │        \u001b[38;5;34m130\u001b[0m │ dense_6[\u001b[38;5;34m0\u001b[0m][\u001b[38;5;34m0\u001b[0m]     │\n",
       "├─────────────────────┼───────────────────┼────────────┼───────────────────┤\n",
       "│ dense_11 (\u001b[38;5;33mDense\u001b[0m)    │ (\u001b[38;5;45mNone\u001b[0m, \u001b[38;5;34m2\u001b[0m)         │        \u001b[38;5;34m130\u001b[0m │ dense_10[\u001b[38;5;34m0\u001b[0m][\u001b[38;5;34m0\u001b[0m]    │\n",
       "└─────────────────────┴───────────────────┴────────────┴───────────────────┘\n"
      ]
     },
     "metadata": {},
     "output_type": "display_data"
    },
    {
     "data": {
      "text/html": [
       "<pre style=\"white-space:pre;overflow-x:auto;line-height:normal;font-family:Menlo,'DejaVu Sans Mono',consolas,'Courier New',monospace\"><span style=\"font-weight: bold\"> Total params: </span><span style=\"color: #00af00; text-decoration-color: #00af00\">6,662</span> (26.02 KB)\n",
       "</pre>\n"
      ],
      "text/plain": [
       "\u001b[1m Total params: \u001b[0m\u001b[38;5;34m6,662\u001b[0m (26.02 KB)\n"
      ]
     },
     "metadata": {},
     "output_type": "display_data"
    },
    {
     "data": {
      "text/html": [
       "<pre style=\"white-space:pre;overflow-x:auto;line-height:normal;font-family:Menlo,'DejaVu Sans Mono',consolas,'Courier New',monospace\"><span style=\"font-weight: bold\"> Trainable params: </span><span style=\"color: #00af00; text-decoration-color: #00af00\">6,662</span> (26.02 KB)\n",
       "</pre>\n"
      ],
      "text/plain": [
       "\u001b[1m Trainable params: \u001b[0m\u001b[38;5;34m6,662\u001b[0m (26.02 KB)\n"
      ]
     },
     "metadata": {},
     "output_type": "display_data"
    },
    {
     "data": {
      "text/html": [
       "<pre style=\"white-space:pre;overflow-x:auto;line-height:normal;font-family:Menlo,'DejaVu Sans Mono',consolas,'Courier New',monospace\"><span style=\"font-weight: bold\"> Non-trainable params: </span><span style=\"color: #00af00; text-decoration-color: #00af00\">0</span> (0.00 B)\n",
       "</pre>\n"
      ],
      "text/plain": [
       "\u001b[1m Non-trainable params: \u001b[0m\u001b[38;5;34m0\u001b[0m (0.00 B)\n"
      ]
     },
     "metadata": {},
     "output_type": "display_data"
    }
   ],
   "source": [
    "# Create the model\n",
    "model = Model(inputs=[input, department_input, attrition_input], outputs=[output, department_output, attrition_output])\n",
    "\n",
    "# Compile the model\n",
    "model.compile(optimizer='adam', loss='categorical_crossentropy', metrics=['accuracy'])\n",
    "\n",
    "\n",
    "# Summarize the model\n",
    "model.summary()\n"
   ]
  },
  {
   "cell_type": "code",
   "execution_count": 17,
   "metadata": {
    "colab": {
     "base_uri": "https://localhost:8080/"
    },
    "id": "c8oGy0dpGc3U",
    "outputId": "ac6b25f5-eb21-4932-dfd9-8c2cb1443b67"
   },
   "outputs": [
    {
     "name": "stdout",
     "output_type": "stream",
     "text": [
      "Epoch 1/100\n",
      "\u001b[1m46/46\u001b[0m \u001b[32m━━━━━━━━━━━━━━━━━━━━\u001b[0m\u001b[37m\u001b[0m \u001b[1m5s\u001b[0m 6ms/step - dense_11_accuracy: 0.9194 - dense_11_loss: 0.1907 - dense_13_accuracy: 0.9523 - dense_13_loss: 0.1373 - dense_7_accuracy: 0.9159 - dense_7_loss: 0.1921 - loss: 0.5201\n",
      "Epoch 2/100\n",
      "\u001b[1m46/46\u001b[0m \u001b[32m━━━━━━━━━━━━━━━━━━━━\u001b[0m\u001b[37m\u001b[0m \u001b[1m0s\u001b[0m 5ms/step - dense_11_accuracy: 0.9319 - dense_11_loss: 0.1825 - dense_13_accuracy: 0.9622 - dense_13_loss: 0.1220 - dense_7_accuracy: 0.9295 - dense_7_loss: 0.1828 - loss: 0.4873\n",
      "Epoch 3/100\n",
      "\u001b[1m46/46\u001b[0m \u001b[32m━━━━━━━━━━━━━━━━━━━━\u001b[0m\u001b[37m\u001b[0m \u001b[1m0s\u001b[0m 6ms/step - dense_11_accuracy: 0.9232 - dense_11_loss: 0.1836 - dense_13_accuracy: 0.9560 - dense_13_loss: 0.1275 - dense_7_accuracy: 0.9269 - dense_7_loss: 0.1872 - loss: 0.4983\n",
      "Epoch 4/100\n",
      "\u001b[1m46/46\u001b[0m \u001b[32m━━━━━━━━━━━━━━━━━━━━\u001b[0m\u001b[37m\u001b[0m \u001b[1m0s\u001b[0m 5ms/step - dense_11_accuracy: 0.9146 - dense_11_loss: 0.2006 - dense_13_accuracy: 0.9613 - dense_13_loss: 0.1334 - dense_7_accuracy: 0.9206 - dense_7_loss: 0.2005 - loss: 0.5344\n",
      "Epoch 5/100\n",
      "\u001b[1m46/46\u001b[0m \u001b[32m━━━━━━━━━━━━━━━━━━━━\u001b[0m\u001b[37m\u001b[0m \u001b[1m0s\u001b[0m 6ms/step - dense_11_accuracy: 0.9267 - dense_11_loss: 0.1882 - dense_13_accuracy: 0.9517 - dense_13_loss: 0.1307 - dense_7_accuracy: 0.9260 - dense_7_loss: 0.1930 - loss: 0.5119\n",
      "Epoch 6/100\n",
      "\u001b[1m46/46\u001b[0m \u001b[32m━━━━━━━━━━━━━━━━━━━━\u001b[0m\u001b[37m\u001b[0m \u001b[1m0s\u001b[0m 7ms/step - dense_11_accuracy: 0.9156 - dense_11_loss: 0.1897 - dense_13_accuracy: 0.9577 - dense_13_loss: 0.1295 - dense_7_accuracy: 0.9300 - dense_7_loss: 0.1863 - loss: 0.5055\n",
      "Epoch 7/100\n",
      "\u001b[1m46/46\u001b[0m \u001b[32m━━━━━━━━━━━━━━━━━━━━\u001b[0m\u001b[37m\u001b[0m \u001b[1m0s\u001b[0m 10ms/step - dense_11_accuracy: 0.9141 - dense_11_loss: 0.1935 - dense_13_accuracy: 0.9543 - dense_13_loss: 0.1328 - dense_7_accuracy: 0.9197 - dense_7_loss: 0.1958 - loss: 0.5220\n",
      "Epoch 8/100\n",
      "\u001b[1m46/46\u001b[0m \u001b[32m━━━━━━━━━━━━━━━━━━━━\u001b[0m\u001b[37m\u001b[0m \u001b[1m0s\u001b[0m 9ms/step - dense_11_accuracy: 0.9193 - dense_11_loss: 0.1997 - dense_13_accuracy: 0.9548 - dense_13_loss: 0.1362 - dense_7_accuracy: 0.9236 - dense_7_loss: 0.2015 - loss: 0.5374 \n",
      "Epoch 9/100\n",
      "\u001b[1m46/46\u001b[0m \u001b[32m━━━━━━━━━━━━━━━━━━━━\u001b[0m\u001b[37m\u001b[0m \u001b[1m0s\u001b[0m 8ms/step - dense_11_accuracy: 0.9208 - dense_11_loss: 0.1805 - dense_13_accuracy: 0.9623 - dense_13_loss: 0.1196 - dense_7_accuracy: 0.9272 - dense_7_loss: 0.1792 - loss: 0.4794\n",
      "Epoch 10/100\n",
      "\u001b[1m46/46\u001b[0m \u001b[32m━━━━━━━━━━━━━━━━━━━━\u001b[0m\u001b[37m\u001b[0m \u001b[1m0s\u001b[0m 8ms/step - dense_11_accuracy: 0.9195 - dense_11_loss: 0.1836 - dense_13_accuracy: 0.9729 - dense_13_loss: 0.1193 - dense_7_accuracy: 0.9262 - dense_7_loss: 0.1839 - loss: 0.4869\n",
      "Epoch 11/100\n",
      "\u001b[1m46/46\u001b[0m \u001b[32m━━━━━━━━━━━━━━━━━━━━\u001b[0m\u001b[37m\u001b[0m \u001b[1m0s\u001b[0m 9ms/step - dense_11_accuracy: 0.9362 - dense_11_loss: 0.1658 - dense_13_accuracy: 0.9714 - dense_13_loss: 0.1063 - dense_7_accuracy: 0.9351 - dense_7_loss: 0.1670 - loss: 0.4392\n",
      "Epoch 12/100\n",
      "\u001b[1m46/46\u001b[0m \u001b[32m━━━━━━━━━━━━━━━━━━━━\u001b[0m\u001b[37m\u001b[0m \u001b[1m1s\u001b[0m 11ms/step - dense_11_accuracy: 0.9311 - dense_11_loss: 0.1698 - dense_13_accuracy: 0.9701 - dense_13_loss: 0.1114 - dense_7_accuracy: 0.9289 - dense_7_loss: 0.1731 - loss: 0.4543\n",
      "Epoch 13/100\n",
      "\u001b[1m46/46\u001b[0m \u001b[32m━━━━━━━━━━━━━━━━━━━━\u001b[0m\u001b[37m\u001b[0m \u001b[1m1s\u001b[0m 12ms/step - dense_11_accuracy: 0.9207 - dense_11_loss: 0.1806 - dense_13_accuracy: 0.9602 - dense_13_loss: 0.1172 - dense_7_accuracy: 0.9307 - dense_7_loss: 0.1811 - loss: 0.4790\n",
      "Epoch 14/100\n",
      "\u001b[1m46/46\u001b[0m \u001b[32m━━━━━━━━━━━━━━━━━━━━\u001b[0m\u001b[37m\u001b[0m \u001b[1m0s\u001b[0m 9ms/step - dense_11_accuracy: 0.9263 - dense_11_loss: 0.1853 - dense_13_accuracy: 0.9657 - dense_13_loss: 0.1191 - dense_7_accuracy: 0.9254 - dense_7_loss: 0.1850 - loss: 0.4894\n",
      "Epoch 15/100\n",
      "\u001b[1m46/46\u001b[0m \u001b[32m━━━━━━━━━━━━━━━━━━━━\u001b[0m\u001b[37m\u001b[0m \u001b[1m1s\u001b[0m 10ms/step - dense_11_accuracy: 0.9266 - dense_11_loss: 0.1778 - dense_13_accuracy: 0.9639 - dense_13_loss: 0.1129 - dense_7_accuracy: 0.9269 - dense_7_loss: 0.1824 - loss: 0.4731\n",
      "Epoch 16/100\n",
      "\u001b[1m46/46\u001b[0m \u001b[32m━━━━━━━━━━━━━━━━━━━━\u001b[0m\u001b[37m\u001b[0m \u001b[1m1s\u001b[0m 11ms/step - dense_11_accuracy: 0.9227 - dense_11_loss: 0.1831 - dense_13_accuracy: 0.9639 - dense_13_loss: 0.1199 - dense_7_accuracy: 0.9248 - dense_7_loss: 0.1862 - loss: 0.4893\n",
      "Epoch 17/100\n",
      "\u001b[1m46/46\u001b[0m \u001b[32m━━━━━━━━━━━━━━━━━━━━\u001b[0m\u001b[37m\u001b[0m \u001b[1m0s\u001b[0m 7ms/step - dense_11_accuracy: 0.9315 - dense_11_loss: 0.1694 - dense_13_accuracy: 0.9684 - dense_13_loss: 0.1066 - dense_7_accuracy: 0.9296 - dense_7_loss: 0.1725 - loss: 0.4485\n",
      "Epoch 18/100\n",
      "\u001b[1m46/46\u001b[0m \u001b[32m━━━━━━━━━━━━━━━━━━━━\u001b[0m\u001b[37m\u001b[0m \u001b[1m1s\u001b[0m 10ms/step - dense_11_accuracy: 0.9310 - dense_11_loss: 0.1765 - dense_13_accuracy: 0.9660 - dense_13_loss: 0.1156 - dense_7_accuracy: 0.9336 - dense_7_loss: 0.1797 - loss: 0.4717\n",
      "Epoch 19/100\n",
      "\u001b[1m46/46\u001b[0m \u001b[32m━━━━━━━━━━━━━━━━━━━━\u001b[0m\u001b[37m\u001b[0m \u001b[1m0s\u001b[0m 7ms/step - dense_11_accuracy: 0.9271 - dense_11_loss: 0.1830 - dense_13_accuracy: 0.9627 - dense_13_loss: 0.1174 - dense_7_accuracy: 0.9290 - dense_7_loss: 0.1838 - loss: 0.4842\n",
      "Epoch 20/100\n",
      "\u001b[1m46/46\u001b[0m \u001b[32m━━━━━━━━━━━━━━━━━━━━\u001b[0m\u001b[37m\u001b[0m \u001b[1m0s\u001b[0m 6ms/step - dense_11_accuracy: 0.9115 - dense_11_loss: 0.1945 - dense_13_accuracy: 0.9571 - dense_13_loss: 0.1264 - dense_7_accuracy: 0.9112 - dense_7_loss: 0.1967 - loss: 0.5176\n",
      "Epoch 21/100\n",
      "\u001b[1m46/46\u001b[0m \u001b[32m━━━━━━━━━━━━━━━━━━━━\u001b[0m\u001b[37m\u001b[0m \u001b[1m0s\u001b[0m 7ms/step - dense_11_accuracy: 0.9321 - dense_11_loss: 0.1731 - dense_13_accuracy: 0.9634 - dense_13_loss: 0.1069 - dense_7_accuracy: 0.9291 - dense_7_loss: 0.1791 - loss: 0.4591\n",
      "Epoch 22/100\n",
      "\u001b[1m46/46\u001b[0m \u001b[32m━━━━━━━━━━━━━━━━━━━━\u001b[0m\u001b[37m\u001b[0m \u001b[1m1s\u001b[0m 10ms/step - dense_11_accuracy: 0.9236 - dense_11_loss: 0.1729 - dense_13_accuracy: 0.9724 - dense_13_loss: 0.1107 - dense_7_accuracy: 0.9254 - dense_7_loss: 0.1749 - loss: 0.4585\n",
      "Epoch 23/100\n",
      "\u001b[1m46/46\u001b[0m \u001b[32m━━━━━━━━━━━━━━━━━━━━\u001b[0m\u001b[37m\u001b[0m \u001b[1m0s\u001b[0m 6ms/step - dense_11_accuracy: 0.9341 - dense_11_loss: 0.1643 - dense_13_accuracy: 0.9675 - dense_13_loss: 0.1070 - dense_7_accuracy: 0.9347 - dense_7_loss: 0.1664 - loss: 0.4377\n",
      "Epoch 24/100\n",
      "\u001b[1m46/46\u001b[0m \u001b[32m━━━━━━━━━━━━━━━━━━━━\u001b[0m\u001b[37m\u001b[0m \u001b[1m1s\u001b[0m 10ms/step - dense_11_accuracy: 0.9306 - dense_11_loss: 0.1690 - dense_13_accuracy: 0.9771 - dense_13_loss: 0.1030 - dense_7_accuracy: 0.9375 - dense_7_loss: 0.1691 - loss: 0.4411\n",
      "Epoch 25/100\n",
      "\u001b[1m46/46\u001b[0m \u001b[32m━━━━━━━━━━━━━━━━━━━━\u001b[0m\u001b[37m\u001b[0m \u001b[1m0s\u001b[0m 9ms/step - dense_11_accuracy: 0.9270 - dense_11_loss: 0.1669 - dense_13_accuracy: 0.9719 - dense_13_loss: 0.1024 - dense_7_accuracy: 0.9215 - dense_7_loss: 0.1685 - loss: 0.4378\n",
      "Epoch 26/100\n",
      "\u001b[1m46/46\u001b[0m \u001b[32m━━━━━━━━━━━━━━━━━━━━\u001b[0m\u001b[37m\u001b[0m \u001b[1m1s\u001b[0m 11ms/step - dense_11_accuracy: 0.9295 - dense_11_loss: 0.1699 - dense_13_accuracy: 0.9691 - dense_13_loss: 0.1039 - dense_7_accuracy: 0.9279 - dense_7_loss: 0.1783 - loss: 0.4520\n",
      "Epoch 27/100\n",
      "\u001b[1m46/46\u001b[0m \u001b[32m━━━━━━━━━━━━━━━━━━━━\u001b[0m\u001b[37m\u001b[0m \u001b[1m0s\u001b[0m 8ms/step - dense_11_accuracy: 0.9379 - dense_11_loss: 0.1631 - dense_13_accuracy: 0.9759 - dense_13_loss: 0.0983 - dense_7_accuracy: 0.9346 - dense_7_loss: 0.1666 - loss: 0.4279\n",
      "Epoch 28/100\n",
      "\u001b[1m46/46\u001b[0m \u001b[32m━━━━━━━━━━━━━━━━━━━━\u001b[0m\u001b[37m\u001b[0m \u001b[1m1s\u001b[0m 10ms/step - dense_11_accuracy: 0.9368 - dense_11_loss: 0.1674 - dense_13_accuracy: 0.9732 - dense_13_loss: 0.1029 - dense_7_accuracy: 0.9307 - dense_7_loss: 0.1704 - loss: 0.4407\n",
      "Epoch 29/100\n",
      "\u001b[1m46/46\u001b[0m \u001b[32m━━━━━━━━━━━━━━━━━━━━\u001b[0m\u001b[37m\u001b[0m \u001b[1m0s\u001b[0m 7ms/step - dense_11_accuracy: 0.9378 - dense_11_loss: 0.1610 - dense_13_accuracy: 0.9798 - dense_13_loss: 0.0951 - dense_7_accuracy: 0.9421 - dense_7_loss: 0.1571 - loss: 0.4131\n",
      "Epoch 30/100\n",
      "\u001b[1m46/46\u001b[0m \u001b[32m━━━━━━━━━━━━━━━━━━━━\u001b[0m\u001b[37m\u001b[0m \u001b[1m0s\u001b[0m 9ms/step - dense_11_accuracy: 0.9378 - dense_11_loss: 0.1700 - dense_13_accuracy: 0.9753 - dense_13_loss: 0.1027 - dense_7_accuracy: 0.9418 - dense_7_loss: 0.1695 - loss: 0.4421\n",
      "Epoch 31/100\n",
      "\u001b[1m46/46\u001b[0m \u001b[32m━━━━━━━━━━━━━━━━━━━━\u001b[0m\u001b[37m\u001b[0m \u001b[1m0s\u001b[0m 9ms/step - dense_11_accuracy: 0.9397 - dense_11_loss: 0.1614 - dense_13_accuracy: 0.9729 - dense_13_loss: 0.0998 - dense_7_accuracy: 0.9360 - dense_7_loss: 0.1625 - loss: 0.4237\n",
      "Epoch 32/100\n",
      "\u001b[1m46/46\u001b[0m \u001b[32m━━━━━━━━━━━━━━━━━━━━\u001b[0m\u001b[37m\u001b[0m \u001b[1m0s\u001b[0m 10ms/step - dense_11_accuracy: 0.9484 - dense_11_loss: 0.1474 - dense_13_accuracy: 0.9748 - dense_13_loss: 0.0890 - dense_7_accuracy: 0.9442 - dense_7_loss: 0.1513 - loss: 0.3876\n",
      "Epoch 33/100\n",
      "\u001b[1m46/46\u001b[0m \u001b[32m━━━━━━━━━━━━━━━━━━━━\u001b[0m\u001b[37m\u001b[0m \u001b[1m1s\u001b[0m 11ms/step - dense_11_accuracy: 0.9426 - dense_11_loss: 0.1572 - dense_13_accuracy: 0.9798 - dense_13_loss: 0.0903 - dense_7_accuracy: 0.9443 - dense_7_loss: 0.1541 - loss: 0.4015\n",
      "Epoch 34/100\n",
      "\u001b[1m46/46\u001b[0m \u001b[32m━━━━━━━━━━━━━━━━━━━━\u001b[0m\u001b[37m\u001b[0m \u001b[1m1s\u001b[0m 12ms/step - dense_11_accuracy: 0.9434 - dense_11_loss: 0.1638 - dense_13_accuracy: 0.9794 - dense_13_loss: 0.0955 - dense_7_accuracy: 0.9297 - dense_7_loss: 0.1669 - loss: 0.4262\n",
      "Epoch 35/100\n",
      "\u001b[1m46/46\u001b[0m \u001b[32m━━━━━━━━━━━━━━━━━━━━\u001b[0m\u001b[37m\u001b[0m \u001b[1m0s\u001b[0m 8ms/step - dense_11_accuracy: 0.9380 - dense_11_loss: 0.1531 - dense_13_accuracy: 0.9835 - dense_13_loss: 0.0879 - dense_7_accuracy: 0.9459 - dense_7_loss: 0.1553 - loss: 0.3963\n",
      "Epoch 36/100\n",
      "\u001b[1m46/46\u001b[0m \u001b[32m━━━━━━━━━━━━━━━━━━━━\u001b[0m\u001b[37m\u001b[0m \u001b[1m1s\u001b[0m 8ms/step - dense_11_accuracy: 0.9443 - dense_11_loss: 0.1596 - dense_13_accuracy: 0.9738 - dense_13_loss: 0.0931 - dense_7_accuracy: 0.9379 - dense_7_loss: 0.1661 - loss: 0.4188\n",
      "Epoch 37/100\n",
      "\u001b[1m46/46\u001b[0m \u001b[32m━━━━━━━━━━━━━━━━━━━━\u001b[0m\u001b[37m\u001b[0m \u001b[1m1s\u001b[0m 11ms/step - dense_11_accuracy: 0.9354 - dense_11_loss: 0.1618 - dense_13_accuracy: 0.9775 - dense_13_loss: 0.0981 - dense_7_accuracy: 0.9367 - dense_7_loss: 0.1625 - loss: 0.4225\n",
      "Epoch 38/100\n",
      "\u001b[1m46/46\u001b[0m \u001b[32m━━━━━━━━━━━━━━━━━━━━\u001b[0m\u001b[37m\u001b[0m \u001b[1m0s\u001b[0m 8ms/step - dense_11_accuracy: 0.9509 - dense_11_loss: 0.1440 - dense_13_accuracy: 0.9807 - dense_13_loss: 0.0832 - dense_7_accuracy: 0.9474 - dense_7_loss: 0.1444 - loss: 0.3716\n",
      "Epoch 39/100\n",
      "\u001b[1m46/46\u001b[0m \u001b[32m━━━━━━━━━━━━━━━━━━━━\u001b[0m\u001b[37m\u001b[0m \u001b[1m0s\u001b[0m 8ms/step - dense_11_accuracy: 0.9491 - dense_11_loss: 0.1494 - dense_13_accuracy: 0.9803 - dense_13_loss: 0.0866 - dense_7_accuracy: 0.9428 - dense_7_loss: 0.1568 - loss: 0.3927\n",
      "Epoch 40/100\n",
      "\u001b[1m46/46\u001b[0m \u001b[32m━━━━━━━━━━━━━━━━━━━━\u001b[0m\u001b[37m\u001b[0m \u001b[1m1s\u001b[0m 6ms/step - dense_11_accuracy: 0.9470 - dense_11_loss: 0.1486 - dense_13_accuracy: 0.9882 - dense_13_loss: 0.0802 - dense_7_accuracy: 0.9570 - dense_7_loss: 0.1441 - loss: 0.3729\n",
      "Epoch 41/100\n",
      "\u001b[1m46/46\u001b[0m \u001b[32m━━━━━━━━━━━━━━━━━━━━\u001b[0m\u001b[37m\u001b[0m \u001b[1m0s\u001b[0m 9ms/step - dense_11_accuracy: 0.9434 - dense_11_loss: 0.1400 - dense_13_accuracy: 0.9825 - dense_13_loss: 0.0824 - dense_7_accuracy: 0.9422 - dense_7_loss: 0.1454 - loss: 0.3677\n",
      "Epoch 42/100\n",
      "\u001b[1m46/46\u001b[0m \u001b[32m━━━━━━━━━━━━━━━━━━━━\u001b[0m\u001b[37m\u001b[0m \u001b[1m0s\u001b[0m 7ms/step - dense_11_accuracy: 0.9476 - dense_11_loss: 0.1518 - dense_13_accuracy: 0.9824 - dense_13_loss: 0.0884 - dense_7_accuracy: 0.9530 - dense_7_loss: 0.1513 - loss: 0.3915\n",
      "Epoch 43/100\n",
      "\u001b[1m46/46\u001b[0m \u001b[32m━━━━━━━━━━━━━━━━━━━━\u001b[0m\u001b[37m\u001b[0m \u001b[1m1s\u001b[0m 11ms/step - dense_11_accuracy: 0.9404 - dense_11_loss: 0.1492 - dense_13_accuracy: 0.9797 - dense_13_loss: 0.0828 - dense_7_accuracy: 0.9418 - dense_7_loss: 0.1452 - loss: 0.3772\n",
      "Epoch 44/100\n",
      "\u001b[1m46/46\u001b[0m \u001b[32m━━━━━━━━━━━━━━━━━━━━\u001b[0m\u001b[37m\u001b[0m \u001b[1m1s\u001b[0m 11ms/step - dense_11_accuracy: 0.9544 - dense_11_loss: 0.1368 - dense_13_accuracy: 0.9836 - dense_13_loss: 0.0769 - dense_7_accuracy: 0.9554 - dense_7_loss: 0.1392 - loss: 0.3529\n",
      "Epoch 45/100\n",
      "\u001b[1m46/46\u001b[0m \u001b[32m━━━━━━━━━━━━━━━━━━━━\u001b[0m\u001b[37m\u001b[0m \u001b[1m0s\u001b[0m 8ms/step - dense_11_accuracy: 0.9546 - dense_11_loss: 0.1449 - dense_13_accuracy: 0.9841 - dense_13_loss: 0.0838 - dense_7_accuracy: 0.9488 - dense_7_loss: 0.1507 - loss: 0.3793\n",
      "Epoch 46/100\n",
      "\u001b[1m46/46\u001b[0m \u001b[32m━━━━━━━━━━━━━━━━━━━━\u001b[0m\u001b[37m\u001b[0m \u001b[1m0s\u001b[0m 9ms/step - dense_11_accuracy: 0.9521 - dense_11_loss: 0.1451 - dense_13_accuracy: 0.9810 - dense_13_loss: 0.0823 - dense_7_accuracy: 0.9486 - dense_7_loss: 0.1503 - loss: 0.3777\n",
      "Epoch 47/100\n",
      "\u001b[1m46/46\u001b[0m \u001b[32m━━━━━━━━━━━━━━━━━━━━\u001b[0m\u001b[37m\u001b[0m \u001b[1m1s\u001b[0m 10ms/step - dense_11_accuracy: 0.9562 - dense_11_loss: 0.1354 - dense_13_accuracy: 0.9886 - dense_13_loss: 0.0750 - dense_7_accuracy: 0.9489 - dense_7_loss: 0.1397 - loss: 0.3501\n",
      "Epoch 48/100\n",
      "\u001b[1m46/46\u001b[0m \u001b[32m━━━━━━━━━━━━━━━━━━━━\u001b[0m\u001b[37m\u001b[0m \u001b[1m0s\u001b[0m 8ms/step - dense_11_accuracy: 0.9515 - dense_11_loss: 0.1448 - dense_13_accuracy: 0.9791 - dense_13_loss: 0.0830 - dense_7_accuracy: 0.9465 - dense_7_loss: 0.1460 - loss: 0.3738\n",
      "Epoch 49/100\n",
      "\u001b[1m46/46\u001b[0m \u001b[32m━━━━━━━━━━━━━━━━━━━━\u001b[0m\u001b[37m\u001b[0m \u001b[1m0s\u001b[0m 8ms/step - dense_11_accuracy: 0.9576 - dense_11_loss: 0.1446 - dense_13_accuracy: 0.9877 - dense_13_loss: 0.0816 - dense_7_accuracy: 0.9449 - dense_7_loss: 0.1513 - loss: 0.3774\n",
      "Epoch 50/100\n",
      "\u001b[1m46/46\u001b[0m \u001b[32m━━━━━━━━━━━━━━━━━━━━\u001b[0m\u001b[37m\u001b[0m \u001b[1m0s\u001b[0m 8ms/step - dense_11_accuracy: 0.9303 - dense_11_loss: 0.1585 - dense_13_accuracy: 0.9703 - dense_13_loss: 0.0917 - dense_7_accuracy: 0.9351 - dense_7_loss: 0.1607 - loss: 0.4109\n",
      "Epoch 51/100\n",
      "\u001b[1m46/46\u001b[0m \u001b[32m━━━━━━━━━━━━━━━━━━━━\u001b[0m\u001b[37m\u001b[0m \u001b[1m0s\u001b[0m 7ms/step - dense_11_accuracy: 0.9496 - dense_11_loss: 0.1386 - dense_13_accuracy: 0.9837 - dense_13_loss: 0.0750 - dense_7_accuracy: 0.9479 - dense_7_loss: 0.1364 - loss: 0.3500\n",
      "Epoch 52/100\n",
      "\u001b[1m46/46\u001b[0m \u001b[32m━━━━━━━━━━━━━━━━━━━━\u001b[0m\u001b[37m\u001b[0m \u001b[1m1s\u001b[0m 9ms/step - dense_11_accuracy: 0.9487 - dense_11_loss: 0.1497 - dense_13_accuracy: 0.9801 - dense_13_loss: 0.0823 - dense_7_accuracy: 0.9433 - dense_7_loss: 0.1500 - loss: 0.3819 \n",
      "Epoch 53/100\n",
      "\u001b[1m46/46\u001b[0m \u001b[32m━━━━━━━━━━━━━━━━━━━━\u001b[0m\u001b[37m\u001b[0m \u001b[1m0s\u001b[0m 9ms/step - dense_11_accuracy: 0.9481 - dense_11_loss: 0.1449 - dense_13_accuracy: 0.9851 - dense_13_loss: 0.0765 - dense_7_accuracy: 0.9464 - dense_7_loss: 0.1478 - loss: 0.3692 \n",
      "Epoch 54/100\n",
      "\u001b[1m46/46\u001b[0m \u001b[32m━━━━━━━━━━━━━━━━━━━━\u001b[0m\u001b[37m\u001b[0m \u001b[1m0s\u001b[0m 8ms/step - dense_11_accuracy: 0.9545 - dense_11_loss: 0.1451 - dense_13_accuracy: 0.9853 - dense_13_loss: 0.0762 - dense_7_accuracy: 0.9471 - dense_7_loss: 0.1488 - loss: 0.3701 \n",
      "Epoch 55/100\n",
      "\u001b[1m46/46\u001b[0m \u001b[32m━━━━━━━━━━━━━━━━━━━━\u001b[0m\u001b[37m\u001b[0m \u001b[1m1s\u001b[0m 10ms/step - dense_11_accuracy: 0.9572 - dense_11_loss: 0.1302 - dense_13_accuracy: 0.9876 - dense_13_loss: 0.0697 - dense_7_accuracy: 0.9559 - dense_7_loss: 0.1309 - loss: 0.3308\n",
      "Epoch 56/100\n",
      "\u001b[1m46/46\u001b[0m \u001b[32m━━━━━━━━━━━━━━━━━━━━\u001b[0m\u001b[37m\u001b[0m \u001b[1m1s\u001b[0m 11ms/step - dense_11_accuracy: 0.9511 - dense_11_loss: 0.1421 - dense_13_accuracy: 0.9884 - dense_13_loss: 0.0776 - dense_7_accuracy: 0.9426 - dense_7_loss: 0.1486 - loss: 0.3682\n",
      "Epoch 57/100\n",
      "\u001b[1m46/46\u001b[0m \u001b[32m━━━━━━━━━━━━━━━━━━━━\u001b[0m\u001b[37m\u001b[0m \u001b[1m0s\u001b[0m 7ms/step - dense_11_accuracy: 0.9439 - dense_11_loss: 0.1400 - dense_13_accuracy: 0.9874 - dense_13_loss: 0.0713 - dense_7_accuracy: 0.9470 - dense_7_loss: 0.1394 - loss: 0.3507\n",
      "Epoch 58/100\n",
      "\u001b[1m46/46\u001b[0m \u001b[32m━━━━━━━━━━━━━━━━━━━━\u001b[0m\u001b[37m\u001b[0m \u001b[1m0s\u001b[0m 6ms/step - dense_11_accuracy: 0.9548 - dense_11_loss: 0.1403 - dense_13_accuracy: 0.9878 - dense_13_loss: 0.0691 - dense_7_accuracy: 0.9557 - dense_7_loss: 0.1363 - loss: 0.3456\n",
      "Epoch 59/100\n",
      "\u001b[1m46/46\u001b[0m \u001b[32m━━━━━━━━━━━━━━━━━━━━\u001b[0m\u001b[37m\u001b[0m \u001b[1m1s\u001b[0m 11ms/step - dense_11_accuracy: 0.9588 - dense_11_loss: 0.1296 - dense_13_accuracy: 0.9869 - dense_13_loss: 0.0670 - dense_7_accuracy: 0.9622 - dense_7_loss: 0.1300 - loss: 0.3266\n",
      "Epoch 60/100\n",
      "\u001b[1m46/46\u001b[0m \u001b[32m━━━━━━━━━━━━━━━━━━━━\u001b[0m\u001b[37m\u001b[0m \u001b[1m0s\u001b[0m 7ms/step - dense_11_accuracy: 0.9606 - dense_11_loss: 0.1323 - dense_13_accuracy: 0.9909 - dense_13_loss: 0.0656 - dense_7_accuracy: 0.9592 - dense_7_loss: 0.1373 - loss: 0.3352\n",
      "Epoch 61/100\n",
      "\u001b[1m46/46\u001b[0m \u001b[32m━━━━━━━━━━━━━━━━━━━━\u001b[0m\u001b[37m\u001b[0m \u001b[1m1s\u001b[0m 9ms/step - dense_11_accuracy: 0.9590 - dense_11_loss: 0.1305 - dense_13_accuracy: 0.9857 - dense_13_loss: 0.0667 - dense_7_accuracy: 0.9517 - dense_7_loss: 0.1271 - loss: 0.3243\n",
      "Epoch 62/100\n",
      "\u001b[1m46/46\u001b[0m \u001b[32m━━━━━━━━━━━━━━━━━━━━\u001b[0m\u001b[37m\u001b[0m \u001b[1m0s\u001b[0m 6ms/step - dense_11_accuracy: 0.9656 - dense_11_loss: 0.1229 - dense_13_accuracy: 0.9914 - dense_13_loss: 0.0620 - dense_7_accuracy: 0.9525 - dense_7_loss: 0.1244 - loss: 0.3093\n",
      "Epoch 63/100\n",
      "\u001b[1m46/46\u001b[0m \u001b[32m━━━━━━━━━━━━━━━━━━━━\u001b[0m\u001b[37m\u001b[0m \u001b[1m0s\u001b[0m 6ms/step - dense_11_accuracy: 0.9687 - dense_11_loss: 0.1306 - dense_13_accuracy: 0.9928 - dense_13_loss: 0.0649 - dense_7_accuracy: 0.9595 - dense_7_loss: 0.1358 - loss: 0.3313\n",
      "Epoch 64/100\n",
      "\u001b[1m46/46\u001b[0m \u001b[32m━━━━━━━━━━━━━━━━━━━━\u001b[0m\u001b[37m\u001b[0m \u001b[1m1s\u001b[0m 10ms/step - dense_11_accuracy: 0.9590 - dense_11_loss: 0.1261 - dense_13_accuracy: 0.9904 - dense_13_loss: 0.0641 - dense_7_accuracy: 0.9564 - dense_7_loss: 0.1287 - loss: 0.3189\n",
      "Epoch 65/100\n",
      "\u001b[1m46/46\u001b[0m \u001b[32m━━━━━━━━━━━━━━━━━━━━\u001b[0m\u001b[37m\u001b[0m \u001b[1m1s\u001b[0m 10ms/step - dense_11_accuracy: 0.9511 - dense_11_loss: 0.1382 - dense_13_accuracy: 0.9910 - dense_13_loss: 0.0701 - dense_7_accuracy: 0.9536 - dense_7_loss: 0.1409 - loss: 0.3492\n",
      "Epoch 66/100\n",
      "\u001b[1m46/46\u001b[0m \u001b[32m━━━━━━━━━━━━━━━━━━━━\u001b[0m\u001b[37m\u001b[0m \u001b[1m0s\u001b[0m 7ms/step - dense_11_accuracy: 0.9489 - dense_11_loss: 0.1409 - dense_13_accuracy: 0.9906 - dense_13_loss: 0.0677 - dense_7_accuracy: 0.9446 - dense_7_loss: 0.1439 - loss: 0.3526\n",
      "Epoch 67/100\n",
      "\u001b[1m46/46\u001b[0m \u001b[32m━━━━━━━━━━━━━━━━━━━━\u001b[0m\u001b[37m\u001b[0m \u001b[1m0s\u001b[0m 8ms/step - dense_11_accuracy: 0.9618 - dense_11_loss: 0.1397 - dense_13_accuracy: 0.9906 - dense_13_loss: 0.0654 - dense_7_accuracy: 0.9515 - dense_7_loss: 0.1450 - loss: 0.3500\n",
      "Epoch 68/100\n",
      "\u001b[1m46/46\u001b[0m \u001b[32m━━━━━━━━━━━━━━━━━━━━\u001b[0m\u001b[37m\u001b[0m \u001b[1m0s\u001b[0m 9ms/step - dense_11_accuracy: 0.9549 - dense_11_loss: 0.1289 - dense_13_accuracy: 0.9921 - dense_13_loss: 0.0632 - dense_7_accuracy: 0.9597 - dense_7_loss: 0.1280 - loss: 0.3201 \n",
      "Epoch 69/100\n",
      "\u001b[1m46/46\u001b[0m \u001b[32m━━━━━━━━━━━━━━━━━━━━\u001b[0m\u001b[37m\u001b[0m \u001b[1m1s\u001b[0m 9ms/step - dense_11_accuracy: 0.9585 - dense_11_loss: 0.1258 - dense_13_accuracy: 0.9938 - dense_13_loss: 0.0616 - dense_7_accuracy: 0.9585 - dense_7_loss: 0.1253 - loss: 0.3127\n",
      "Epoch 70/100\n",
      "\u001b[1m46/46\u001b[0m \u001b[32m━━━━━━━━━━━━━━━━━━━━\u001b[0m\u001b[37m\u001b[0m \u001b[1m0s\u001b[0m 8ms/step - dense_11_accuracy: 0.9589 - dense_11_loss: 0.1329 - dense_13_accuracy: 0.9891 - dense_13_loss: 0.0658 - dense_7_accuracy: 0.9494 - dense_7_loss: 0.1356 - loss: 0.3344\n",
      "Epoch 71/100\n",
      "\u001b[1m46/46\u001b[0m \u001b[32m━━━━━━━━━━━━━━━━━━━━\u001b[0m\u001b[37m\u001b[0m \u001b[1m0s\u001b[0m 8ms/step - dense_11_accuracy: 0.9541 - dense_11_loss: 0.1297 - dense_13_accuracy: 0.9868 - dense_13_loss: 0.0676 - dense_7_accuracy: 0.9566 - dense_7_loss: 0.1319 - loss: 0.3292\n",
      "Epoch 72/100\n",
      "\u001b[1m46/46\u001b[0m \u001b[32m━━━━━━━━━━━━━━━━━━━━\u001b[0m\u001b[37m\u001b[0m \u001b[1m0s\u001b[0m 9ms/step - dense_11_accuracy: 0.9554 - dense_11_loss: 0.1246 - dense_13_accuracy: 0.9914 - dense_13_loss: 0.0574 - dense_7_accuracy: 0.9573 - dense_7_loss: 0.1241 - loss: 0.3062\n",
      "Epoch 73/100\n",
      "\u001b[1m46/46\u001b[0m \u001b[32m━━━━━━━━━━━━━━━━━━━━\u001b[0m\u001b[37m\u001b[0m \u001b[1m1s\u001b[0m 9ms/step - dense_11_accuracy: 0.9647 - dense_11_loss: 0.1179 - dense_13_accuracy: 0.9947 - dense_13_loss: 0.0555 - dense_7_accuracy: 0.9556 - dense_7_loss: 0.1197 - loss: 0.2931\n",
      "Epoch 74/100\n",
      "\u001b[1m46/46\u001b[0m \u001b[32m━━━━━━━━━━━━━━━━━━━━\u001b[0m\u001b[37m\u001b[0m \u001b[1m0s\u001b[0m 7ms/step - dense_11_accuracy: 0.9652 - dense_11_loss: 0.1044 - dense_13_accuracy: 0.9962 - dense_13_loss: 0.0508 - dense_7_accuracy: 0.9679 - dense_7_loss: 0.1072 - loss: 0.2624\n",
      "Epoch 75/100\n",
      "\u001b[1m46/46\u001b[0m \u001b[32m━━━━━━━━━━━━━━━━━━━━\u001b[0m\u001b[37m\u001b[0m \u001b[1m0s\u001b[0m 7ms/step - dense_11_accuracy: 0.9653 - dense_11_loss: 0.1274 - dense_13_accuracy: 0.9909 - dense_13_loss: 0.0614 - dense_7_accuracy: 0.9659 - dense_7_loss: 0.1274 - loss: 0.3162\n",
      "Epoch 76/100\n",
      "\u001b[1m46/46\u001b[0m \u001b[32m━━━━━━━━━━━━━━━━━━━━\u001b[0m\u001b[37m\u001b[0m \u001b[1m0s\u001b[0m 9ms/step - dense_11_accuracy: 0.9511 - dense_11_loss: 0.1441 - dense_13_accuracy: 0.9922 - dense_13_loss: 0.0678 - dense_7_accuracy: 0.9553 - dense_7_loss: 0.1441 - loss: 0.3560\n",
      "Epoch 77/100\n",
      "\u001b[1m46/46\u001b[0m \u001b[32m━━━━━━━━━━━━━━━━━━━━\u001b[0m\u001b[37m\u001b[0m \u001b[1m0s\u001b[0m 7ms/step - dense_11_accuracy: 0.9626 - dense_11_loss: 0.1253 - dense_13_accuracy: 0.9890 - dense_13_loss: 0.0655 - dense_7_accuracy: 0.9571 - dense_7_loss: 0.1339 - loss: 0.3247\n",
      "Epoch 78/100\n",
      "\u001b[1m46/46\u001b[0m \u001b[32m━━━━━━━━━━━━━━━━━━━━\u001b[0m\u001b[37m\u001b[0m \u001b[1m0s\u001b[0m 9ms/step - dense_11_accuracy: 0.9650 - dense_11_loss: 0.1140 - dense_13_accuracy: 0.9927 - dense_13_loss: 0.0562 - dense_7_accuracy: 0.9635 - dense_7_loss: 0.1178 - loss: 0.2880 \n",
      "Epoch 79/100\n",
      "\u001b[1m46/46\u001b[0m \u001b[32m━━━━━━━━━━━━━━━━━━━━\u001b[0m\u001b[37m\u001b[0m \u001b[1m0s\u001b[0m 9ms/step - dense_11_accuracy: 0.9705 - dense_11_loss: 0.1162 - dense_13_accuracy: 0.9938 - dense_13_loss: 0.0549 - dense_7_accuracy: 0.9638 - dense_7_loss: 0.1206 - loss: 0.2917\n",
      "Epoch 80/100\n",
      "\u001b[1m46/46\u001b[0m \u001b[32m━━━━━━━━━━━━━━━━━━━━\u001b[0m\u001b[37m\u001b[0m \u001b[1m1s\u001b[0m 11ms/step - dense_11_accuracy: 0.9615 - dense_11_loss: 0.1297 - dense_13_accuracy: 0.9904 - dense_13_loss: 0.0607 - dense_7_accuracy: 0.9552 - dense_7_loss: 0.1294 - loss: 0.3197\n",
      "Epoch 81/100\n",
      "\u001b[1m46/46\u001b[0m \u001b[32m━━━━━━━━━━━━━━━━━━━━\u001b[0m\u001b[37m\u001b[0m \u001b[1m0s\u001b[0m 8ms/step - dense_11_accuracy: 0.9522 - dense_11_loss: 0.1405 - dense_13_accuracy: 0.9936 - dense_13_loss: 0.0623 - dense_7_accuracy: 0.9538 - dense_7_loss: 0.1366 - loss: 0.3394\n",
      "Epoch 82/100\n",
      "\u001b[1m46/46\u001b[0m \u001b[32m━━━━━━━━━━━━━━━━━━━━\u001b[0m\u001b[37m\u001b[0m \u001b[1m0s\u001b[0m 7ms/step - dense_11_accuracy: 0.9624 - dense_11_loss: 0.1175 - dense_13_accuracy: 0.9931 - dense_13_loss: 0.0503 - dense_7_accuracy: 0.9649 - dense_7_loss: 0.1152 - loss: 0.2831\n",
      "Epoch 83/100\n",
      "\u001b[1m46/46\u001b[0m \u001b[32m━━━━━━━━━━━━━━━━━━━━\u001b[0m\u001b[37m\u001b[0m \u001b[1m0s\u001b[0m 8ms/step - dense_11_accuracy: 0.9653 - dense_11_loss: 0.1085 - dense_13_accuracy: 0.9947 - dense_13_loss: 0.0493 - dense_7_accuracy: 0.9661 - dense_7_loss: 0.1090 - loss: 0.2668\n",
      "Epoch 84/100\n",
      "\u001b[1m46/46\u001b[0m \u001b[32m━━━━━━━━━━━━━━━━━━━━\u001b[0m\u001b[37m\u001b[0m \u001b[1m1s\u001b[0m 8ms/step - dense_11_accuracy: 0.9656 - dense_11_loss: 0.1187 - dense_13_accuracy: 0.9955 - dense_13_loss: 0.0514 - dense_7_accuracy: 0.9722 - dense_7_loss: 0.1182 - loss: 0.2883\n",
      "Epoch 85/100\n",
      "\u001b[1m46/46\u001b[0m \u001b[32m━━━━━━━━━━━━━━━━━━━━\u001b[0m\u001b[37m\u001b[0m \u001b[1m0s\u001b[0m 8ms/step - dense_11_accuracy: 0.9638 - dense_11_loss: 0.1234 - dense_13_accuracy: 0.9950 - dense_13_loss: 0.0542 - dense_7_accuracy: 0.9660 - dense_7_loss: 0.1259 - loss: 0.3034\n",
      "Epoch 86/100\n",
      "\u001b[1m46/46\u001b[0m \u001b[32m━━━━━━━━━━━━━━━━━━━━\u001b[0m\u001b[37m\u001b[0m \u001b[1m1s\u001b[0m 9ms/step - dense_11_accuracy: 0.9656 - dense_11_loss: 0.1165 - dense_13_accuracy: 0.9939 - dense_13_loss: 0.0514 - dense_7_accuracy: 0.9670 - dense_7_loss: 0.1199 - loss: 0.2878\n",
      "Epoch 87/100\n",
      "\u001b[1m46/46\u001b[0m \u001b[32m━━━━━━━━━━━━━━━━━━━━\u001b[0m\u001b[37m\u001b[0m \u001b[1m1s\u001b[0m 11ms/step - dense_11_accuracy: 0.9628 - dense_11_loss: 0.1239 - dense_13_accuracy: 0.9919 - dense_13_loss: 0.0562 - dense_7_accuracy: 0.9585 - dense_7_loss: 0.1230 - loss: 0.3031\n",
      "Epoch 88/100\n",
      "\u001b[1m46/46\u001b[0m \u001b[32m━━━━━━━━━━━━━━━━━━━━\u001b[0m\u001b[37m\u001b[0m \u001b[1m1s\u001b[0m 11ms/step - dense_11_accuracy: 0.9620 - dense_11_loss: 0.1210 - dense_13_accuracy: 0.9950 - dense_13_loss: 0.0506 - dense_7_accuracy: 0.9665 - dense_7_loss: 0.1195 - loss: 0.2911\n",
      "Epoch 89/100\n",
      "\u001b[1m46/46\u001b[0m \u001b[32m━━━━━━━━━━━━━━━━━━━━\u001b[0m\u001b[37m\u001b[0m \u001b[1m0s\u001b[0m 7ms/step - dense_11_accuracy: 0.9730 - dense_11_loss: 0.1044 - dense_13_accuracy: 0.9978 - dense_13_loss: 0.0460 - dense_7_accuracy: 0.9742 - dense_7_loss: 0.1051 - loss: 0.2554\n",
      "Epoch 90/100\n",
      "\u001b[1m46/46\u001b[0m \u001b[32m━━━━━━━━━━━━━━━━━━━━\u001b[0m\u001b[37m\u001b[0m \u001b[1m0s\u001b[0m 8ms/step - dense_11_accuracy: 0.9698 - dense_11_loss: 0.1125 - dense_13_accuracy: 0.9957 - dense_13_loss: 0.0509 - dense_7_accuracy: 0.9721 - dense_7_loss: 0.1149 - loss: 0.2782\n",
      "Epoch 91/100\n",
      "\u001b[1m46/46\u001b[0m \u001b[32m━━━━━━━━━━━━━━━━━━━━\u001b[0m\u001b[37m\u001b[0m \u001b[1m0s\u001b[0m 9ms/step - dense_11_accuracy: 0.9642 - dense_11_loss: 0.1129 - dense_13_accuracy: 0.9906 - dense_13_loss: 0.0530 - dense_7_accuracy: 0.9654 - dense_7_loss: 0.1159 - loss: 0.2818\n",
      "Epoch 92/100\n",
      "\u001b[1m46/46\u001b[0m \u001b[32m━━━━━━━━━━━━━━━━━━━━\u001b[0m\u001b[37m\u001b[0m \u001b[1m0s\u001b[0m 6ms/step - dense_11_accuracy: 0.9699 - dense_11_loss: 0.1065 - dense_13_accuracy: 0.9955 - dense_13_loss: 0.0468 - dense_7_accuracy: 0.9673 - dense_7_loss: 0.1105 - loss: 0.2638\n",
      "Epoch 93/100\n",
      "\u001b[1m46/46\u001b[0m \u001b[32m━━━━━━━━━━━━━━━━━━━━\u001b[0m\u001b[37m\u001b[0m \u001b[1m1s\u001b[0m 11ms/step - dense_11_accuracy: 0.9670 - dense_11_loss: 0.1132 - dense_13_accuracy: 0.9939 - dense_13_loss: 0.0505 - dense_7_accuracy: 0.9617 - dense_7_loss: 0.1161 - loss: 0.2798\n",
      "Epoch 94/100\n",
      "\u001b[1m46/46\u001b[0m \u001b[32m━━━━━━━━━━━━━━━━━━━━\u001b[0m\u001b[37m\u001b[0m \u001b[1m1s\u001b[0m 9ms/step - dense_11_accuracy: 0.9641 - dense_11_loss: 0.1121 - dense_13_accuracy: 0.9951 - dense_13_loss: 0.0504 - dense_7_accuracy: 0.9647 - dense_7_loss: 0.1164 - loss: 0.2789\n",
      "Epoch 95/100\n",
      "\u001b[1m46/46\u001b[0m \u001b[32m━━━━━━━━━━━━━━━━━━━━\u001b[0m\u001b[37m\u001b[0m \u001b[1m0s\u001b[0m 5ms/step - dense_11_accuracy: 0.9688 - dense_11_loss: 0.1051 - dense_13_accuracy: 0.9940 - dense_13_loss: 0.0476 - dense_7_accuracy: 0.9728 - dense_7_loss: 0.1067 - loss: 0.2595\n",
      "Epoch 96/100\n",
      "\u001b[1m46/46\u001b[0m \u001b[32m━━━━━━━━━━━━━━━━━━━━\u001b[0m\u001b[37m\u001b[0m \u001b[1m0s\u001b[0m 7ms/step - dense_11_accuracy: 0.9667 - dense_11_loss: 0.1078 - dense_13_accuracy: 0.9938 - dense_13_loss: 0.0502 - dense_7_accuracy: 0.9670 - dense_7_loss: 0.1126 - loss: 0.2706\n",
      "Epoch 97/100\n",
      "\u001b[1m46/46\u001b[0m \u001b[32m━━━━━━━━━━━━━━━━━━━━\u001b[0m\u001b[37m\u001b[0m \u001b[1m1s\u001b[0m 11ms/step - dense_11_accuracy: 0.9730 - dense_11_loss: 0.1100 - dense_13_accuracy: 0.9969 - dense_13_loss: 0.0482 - dense_7_accuracy: 0.9692 - dense_7_loss: 0.1143 - loss: 0.2725\n",
      "Epoch 98/100\n",
      "\u001b[1m46/46\u001b[0m \u001b[32m━━━━━━━━━━━━━━━━━━━━\u001b[0m\u001b[37m\u001b[0m \u001b[1m0s\u001b[0m 5ms/step - dense_11_accuracy: 0.9706 - dense_11_loss: 0.1040 - dense_13_accuracy: 0.9972 - dense_13_loss: 0.0427 - dense_7_accuracy: 0.9766 - dense_7_loss: 0.1071 - loss: 0.2538\n",
      "Epoch 99/100\n",
      "\u001b[1m46/46\u001b[0m \u001b[32m━━━━━━━━━━━━━━━━━━━━\u001b[0m\u001b[37m\u001b[0m \u001b[1m1s\u001b[0m 10ms/step - dense_11_accuracy: 0.9712 - dense_11_loss: 0.0973 - dense_13_accuracy: 0.9955 - dense_13_loss: 0.0400 - dense_7_accuracy: 0.9664 - dense_7_loss: 0.1001 - loss: 0.2373\n",
      "Epoch 100/100\n",
      "\u001b[1m46/46\u001b[0m \u001b[32m━━━━━━━━━━━━━━━━━━━━\u001b[0m\u001b[37m\u001b[0m \u001b[1m0s\u001b[0m 7ms/step - dense_11_accuracy: 0.9707 - dense_11_loss: 0.1038 - dense_13_accuracy: 0.9915 - dense_13_loss: 0.0453 - dense_7_accuracy: 0.9749 - dense_7_loss: 0.1057 - loss: 0.2548\n"
     ]
    },
    {
     "name": "stderr",
     "output_type": "stream",
     "text": [
      "WARNING:absl:You are saving your model as an HDF5 file via `model.save()` or `keras.saving.save_model(model)`. This file format is considered legacy. We recommend using instead the native Keras format, e.g. `model.save('my_model.keras')` or `keras.saving.save_model(model, 'my_model.keras')`. \n"
     ]
    }
   ],
   "source": [
    "# Train the model\n",
    "# Compile the model\n",
    "model.compile(optimizer='adam',\n",
    "              loss='categorical_crossentropy',\n",
    "              metrics=['accuracy', 'accuracy', 'accuracy'])\n",
    "\n",
    "model.fit(\n",
    "    [X_scaled, X_scaled, X_scaled],\n",
    "\n",
    "    [encoded_data, encoded_data, encoded_data],\n",
    "    epochs=100,\n",
    "    batch_size=32\n",
    ")\n",
    "model.save('attrition_model.h5')\n",
    "\n",
    "\n",
    "\n",
    "\n"
   ]
  },
  {
   "cell_type": "code",
   "execution_count": 18,
   "metadata": {
    "colab": {
     "base_uri": "https://localhost:8080/"
    },
    "id": "VsMoaQlgGc3U",
    "outputId": "eaa8ac87-a2aa-4b5b-9e0e-ade1fc67aba4"
   },
   "outputs": [
    {
     "name": "stdout",
     "output_type": "stream",
     "text": [
      "\u001b[1m46/46\u001b[0m \u001b[32m━━━━━━━━━━━━━━━━━━━━\u001b[0m\u001b[37m\u001b[0m \u001b[1m1s\u001b[0m 9ms/step - dense_11_accuracy: 0.9779 - dense_11_loss: 0.1008 - dense_13_accuracy: 0.9994 - dense_13_loss: 0.0414 - dense_7_accuracy: 0.9826 - dense_7_loss: 0.1028 - loss: 0.2450\n"
     ]
    },
    {
     "ename": "ValueError",
     "evalue": "too many values to unpack (expected 4)",
     "output_type": "error",
     "traceback": [
      "\u001b[1;31m---------------------------------------------------------------------------\u001b[0m",
      "\u001b[1;31mValueError\u001b[0m                                Traceback (most recent call last)",
      "Cell \u001b[1;32mIn[18], line 3\u001b[0m\n\u001b[0;32m      1\u001b[0m \u001b[38;5;66;03m# Evaluate the model with the testing data\u001b[39;00m\n\u001b[1;32m----> 3\u001b[0m model_loss, model_accuracy, department_accuracy, attrition_accuracy \u001b[38;5;241m=\u001b[39m model\u001b[38;5;241m.\u001b[39mevaluate(\n\u001b[0;32m      4\u001b[0m     [X_scaled, X_scaled, X_scaled],\n\u001b[0;32m      5\u001b[0m     [encoded_data, encoded_data, encoded_data]\n\u001b[0;32m      6\u001b[0m )\n",
      "\u001b[1;31mValueError\u001b[0m: too many values to unpack (expected 4)"
     ]
    }
   ],
   "source": [
    "# Evaluate the model with the testing data\n",
    "\n",
    "model_loss, model_accuracy, department_accuracy, attrition_accuracy = model.evaluate(\n",
    "    [X_scaled, X_scaled, X_scaled],\n",
    "    [encoded_data, encoded_data, encoded_data]\n",
    ")\n"
   ]
  },
  {
   "cell_type": "code",
   "execution_count": null,
   "metadata": {
    "colab": {
     "base_uri": "https://localhost:8080/"
    },
    "id": "ZlCtlHi0Vt54",
    "outputId": "19ca1619-b648-4932-f85d-15a3873374a9"
   },
   "outputs": [
    {
     "name": "stdout",
     "output_type": "stream",
     "text": [
      "Department Accuracy: 0.9217687249183655\n",
      "Attrition Accuracy: 0.9653061032295227\n"
     ]
    }
   ],
   "source": [
    "# Print the accuracy for both department and attrition\n",
    "print(f\"Department Accuracy: {department_accuracy}\")\n",
    "print(f\"Attrition Accuracy: {attrition_accuracy}\")\n"
   ]
  },
  {
   "cell_type": "markdown",
   "metadata": {
    "id": "eGSyfsZfWOQM"
   },
   "source": [
    "# Summary\n",
    "\n",
    "In the provided space below, briefly answer the following questions.\n",
    "\n",
    "1. Is accuracy the best metric to use on this data? Why or why not?\n",
    "\n",
    "2. What activation functions did you choose for your output layers, and why?\n",
    "\n",
    "3. Can you name a few ways that this model might be improved?"
   ]
  },
  {
   "cell_type": "markdown",
   "metadata": {
    "id": "pi9SLpFnWvbF"
   },
   "source": [
    "YOUR ANSWERS HERE\n",
    "\n",
    "1. While accuracy is a common and easily understandable metric, it might not always be the best choice, especially when dealing with imbalanced datasets for example, accuracy might not be the best in som esituations due to class Imbalance and Importance of False Positives/Negatives\n",
    "2. The activation function used for the output layers is softmax. The reasoining was mainly around Multi-class Classification: softmax is well-suited for multi-class classification problems where the goal is to predict the probability of an instance belonging to each class.\n",
    "Probability Distribution: It outputs a probability distribution over the classes, ensuring that the probabilities sum to 1. This allows you to interpret the model's output as the likelihood of each class.\n",
    "3. Some potential ways you to potentially improve my model are: Handle Class Imbalance then consider using techniques like: Oversampling, Undersampling, remove samples from the majority class.  Class Weights, Hyperparameter Tuning, Regularization, Feature Engineering, Different Architectures, or even Ensemble Methods by Combining predictions from multiple models to improve overall performance."
   ]
  },
  {
   "cell_type": "markdown",
   "metadata": {
    "id": "T_0FzjkCXI6e"
   },
   "source": []
  }
 ],
 "metadata": {
  "colab": {
   "provenance": []
  },
  "kernelspec": {
   "display_name": "base",
   "language": "python",
   "name": "python3"
  },
  "language_info": {
   "codemirror_mode": {
    "name": "ipython",
    "version": 3
   },
   "file_extension": ".py",
   "mimetype": "text/x-python",
   "name": "python",
   "nbconvert_exporter": "python",
   "pygments_lexer": "ipython3",
   "version": "3.12.4"
  }
 },
 "nbformat": 4,
 "nbformat_minor": 0
}
